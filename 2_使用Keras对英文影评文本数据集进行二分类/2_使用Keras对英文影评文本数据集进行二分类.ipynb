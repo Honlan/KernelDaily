{
 "cells": [
  {
   "cell_type": "markdown",
   "metadata": {},
   "source": [
    "## 2_使用Keras对英文影评文本数据集进行二分类\n",
    "\n",
    "- 标签：文本分类、Keras、IMDB\n",
    "- 难度：🌟🌟\n",
    "- 参考：[https://www.tensorflow.org/tutorials/keras/basic_text_classification](https://www.tensorflow.org/tutorials/keras/basic_text_classification)\n",
    "- 协议：MIT License"
   ]
  },
  {
   "cell_type": "markdown",
   "metadata": {},
   "source": [
    "加载库，包括深度学习框架keras、用于数值计算的numpy、用于绘图的matplotlib"
   ]
  },
  {
   "cell_type": "code",
   "execution_count": 1,
   "metadata": {},
   "outputs": [
    {
     "name": "stderr",
     "output_type": "stream",
     "text": [
      "Using TensorFlow backend.\n",
      "/usr/local/anaconda3/lib/python3.6/importlib/_bootstrap.py:219: RuntimeWarning: compiletime version 3.5 of module 'tensorflow.python.framework.fast_tensor_util' does not match runtime version 3.6\n",
      "  return f(*args, **kwds)\n"
     ]
    }
   ],
   "source": [
    "import keras\n",
    "from keras.datasets import imdb\n",
    "import numpy as np\n",
    "import matplotlib.pyplot as plt\n",
    "%matplotlib inline"
   ]
  },
  {
   "cell_type": "markdown",
   "metadata": {},
   "source": [
    "加载IMDB数据，没有则自动下载\n",
    "\n",
    "- 训练集共2.5W条，测试集共2.5W条，每条数据都已经处理为整数序列，每个整数对应一个词\n",
    "- `num_words`表示保留出现频次最高的若干个词，其他词对应的整数全部去除\n",
    "- 标签共2类，消极或积极"
   ]
  },
  {
   "cell_type": "code",
   "execution_count": 2,
   "metadata": {},
   "outputs": [
    {
     "name": "stdout",
     "output_type": "stream",
     "text": [
      "Train Set Number: 25000 25000\n",
      "218 1\n",
      "[1, 14, 22, 16, 43, 530, 973, 1622, 1385, 65, 458, 4468, 66, 3941, 4, 173, 36, 256, 5, 25, 100, 43, 838, 112, 50, 670, 2, 9, 35, 480, 284, 5, 150, 4, 172, 112, 167, 2, 336, 385, 39, 4, 172, 4536, 1111, 17, 546, 38, 13, 447, 4, 192, 50, 16, 6, 147, 2025, 19, 14, 22, 4, 1920, 4613, 469, 4, 22, 71, 87, 12, 16, 43, 530, 38, 76, 15, 13, 1247, 4, 22, 17, 515, 17, 12, 16, 626, 18, 2, 5, 62, 386, 12, 8, 316, 8, 106, 5, 4, 2223, 5244, 16, 480, 66, 3785, 33, 4, 130, 12, 16, 38, 619, 5, 25, 124, 51, 36, 135, 48, 25, 1415, 33, 6, 22, 12, 215, 28, 77, 52, 5, 14, 407, 16, 82, 2, 8, 4, 107, 117, 5952, 15, 256, 4, 2, 7, 3766, 5, 723, 36, 71, 43, 530, 476, 26, 400, 317, 46, 7, 4, 2, 1029, 13, 104, 88, 4, 381, 15, 297, 98, 32, 2071, 56, 26, 141, 6, 194, 7486, 18, 4, 226, 22, 21, 134, 476, 26, 480, 5, 144, 30, 5535, 18, 51, 36, 28, 224, 92, 25, 104, 4, 226, 65, 16, 38, 1334, 88, 12, 16, 283, 5, 16, 4472, 113, 103, 32, 15, 16, 5345, 19, 178, 32]\n"
     ]
    }
   ],
   "source": [
    "vocab_size = 10000\n",
    "(X_train, Y_train), (X_test, Y_test) = imdb.load_data(num_words=vocab_size)\n",
    "\n",
    "print('Train Set Number:', len(X_train), len(Y_train))\n",
    "print(len(X_train[0]), Y_train[0])\n",
    "print(X_train[0]) # 训练集的第一条数据长度为218，即包含218个词"
   ]
  },
  {
   "cell_type": "markdown",
   "metadata": {},
   "source": [
    "整理词到整数的映射，以及整数到词的映射，预留几个数字给一些特殊字符"
   ]
  },
  {
   "cell_type": "code",
   "execution_count": 3,
   "metadata": {
    "scrolled": false
   },
   "outputs": [
    {
     "name": "stdout",
     "output_type": "stream",
     "text": [
      "<START> this film was just brilliant casting location scenery story direction everyone's really suited the part they played and you could just imagine being there robert <UNK> is an amazing actor and now the same being director <UNK> father came from the same scottish island as myself so i loved the fact there was a real connection with this film the witty remarks throughout the film were great it was just brilliant so much that i bought the film as soon as it was released for <UNK> and would recommend it to everyone to watch and the fly fishing was amazing really cried at the end it was so sad and you know what they say if you cry at a film it must have been good and this definitely was also <UNK> to the two little boy's that played the <UNK> of norman and paul they were just brilliant children are often left out of the <UNK> list i think because the stars that play them all grown up are such a big profile for the whole film but these children are amazing and should be praised for what they have done don't you think the whole story was so lovely because it was true and was someone's life after all that was shared with us all\n"
     ]
    }
   ],
   "source": [
    "word2id = imdb.get_word_index()\n",
    "word2id = {w: i + 3 for w, i in word2id.items()} # id从1开始\n",
    "word2id['<PAD>'] = 0                             # 填充字符\n",
    "word2id['<START>'] = 1                           # 句子的开始\n",
    "word2id['<UNK>'] = 2                             # 词典以外的词\n",
    "word2id['<UNUSED>'] = 3                          # 预留\n",
    "\n",
    "id2word = {i: w for w, i in word2id.items()}     # id到词的映射\n",
    "\n",
    "# 将id序列变为原始文本的函数\n",
    "def decode_review(ids):                  \n",
    "    return ' '.join([id2word.get(i, '?') for i in ids])\n",
    "\n",
    "print(decode_review(X_train[0]))"
   ]
  },
  {
   "cell_type": "markdown",
   "metadata": {},
   "source": [
    "进行预处理，将长句子进行截断、对短句子进行填充，使得序列长度统一\n",
    "\n",
    "- `value`为用来填充的值\n",
    "- `padding`和`truncating`默认都是`pre`，表示前向填充和前向截断，也可以设为`post`，表示后向填充和后向截断"
   ]
  },
  {
   "cell_type": "code",
   "execution_count": 4,
   "metadata": {},
   "outputs": [
    {
     "name": "stdout",
     "output_type": "stream",
     "text": [
      "[256, 256, 256, 256, 256, 256, 256, 256, 256, 256]\n"
     ]
    }
   ],
   "source": [
    "X_train = keras.preprocessing.sequence.pad_sequences(X_train, value=word2id['<PAD>'], padding='post', maxlen=256)\n",
    "X_test = keras.preprocessing.sequence.pad_sequences(X_test, value=word2id['<PAD>'], padding='post', maxlen=256)\n",
    "print([len(i) for i in X_train[:10]])"
   ]
  },
  {
   "cell_type": "markdown",
   "metadata": {},
   "source": [
    "定义模型并编译，从训练集中分割出一部分作为验证集（Validation Set），使用训练集和验证集训练模型\n",
    "\n",
    "- `Embedding`对id序列进行嵌入，将每个id表示为向量，这样一来`25000*256`变成了`25000*256*16`\n",
    "- `GlobalAveragePooling1D`对序列长度这一维度进行全局平均池化，这样一来`25000*256*16`变成了`25000*16`\n",
    "- 多分类最后一层`Dense`一般用`softmax`激活函数，二分类则用`sigmoid`\n",
    "- 二分类的损失函数一般用`binary_crossentropy`\n",
    "- `batch_size`为训练的批大小，即每次使用若干条数据进行训练，如不提供则为32"
   ]
  },
  {
   "cell_type": "code",
   "execution_count": 5,
   "metadata": {
    "scrolled": false
   },
   "outputs": [
    {
     "name": "stdout",
     "output_type": "stream",
     "text": [
      "_________________________________________________________________\n",
      "Layer (type)                 Output Shape              Param #   \n",
      "=================================================================\n",
      "embedding_1 (Embedding)      (None, None, 16)          160000    \n",
      "_________________________________________________________________\n",
      "global_average_pooling1d_1 ( (None, 16)                0         \n",
      "_________________________________________________________________\n",
      "dense_1 (Dense)              (None, 16)                272       \n",
      "_________________________________________________________________\n",
      "dense_2 (Dense)              (None, 1)                 17        \n",
      "=================================================================\n",
      "Total params: 160,289\n",
      "Trainable params: 160,289\n",
      "Non-trainable params: 0\n",
      "_________________________________________________________________\n",
      "Train on 20000 samples, validate on 5000 samples\n",
      "Epoch 1/40\n",
      "20000/20000 [==============================] - 2s 109us/step - loss: 0.6909 - acc: 0.6339 - val_loss: 0.6869 - val_acc: 0.7096\n",
      "Epoch 2/40\n",
      "20000/20000 [==============================] - 1s 37us/step - loss: 0.6796 - acc: 0.7448 - val_loss: 0.6679 - val_acc: 0.7524\n",
      "Epoch 3/40\n",
      "20000/20000 [==============================] - 1s 36us/step - loss: 0.6511 - acc: 0.7693 - val_loss: 0.6290 - val_acc: 0.7680\n",
      "Epoch 4/40\n",
      "20000/20000 [==============================] - 1s 37us/step - loss: 0.6023 - acc: 0.7967 - val_loss: 0.5731 - val_acc: 0.7976\n",
      "Epoch 5/40\n",
      "20000/20000 [==============================] - 1s 37us/step - loss: 0.5390 - acc: 0.8251 - val_loss: 0.5125 - val_acc: 0.8168\n",
      "Epoch 6/40\n",
      "20000/20000 [==============================] - 1s 36us/step - loss: 0.4743 - acc: 0.8461 - val_loss: 0.4573 - val_acc: 0.8382\n",
      "Epoch 7/40\n",
      "20000/20000 [==============================] - 1s 36us/step - loss: 0.4174 - acc: 0.8652 - val_loss: 0.4136 - val_acc: 0.8504\n",
      "Epoch 8/40\n",
      "20000/20000 [==============================] - 1s 38us/step - loss: 0.3718 - acc: 0.8767 - val_loss: 0.3807 - val_acc: 0.8596\n",
      "Epoch 9/40\n",
      "20000/20000 [==============================] - 1s 37us/step - loss: 0.3366 - acc: 0.8862 - val_loss: 0.3565 - val_acc: 0.8660\n",
      "Epoch 10/40\n",
      "20000/20000 [==============================] - 1s 37us/step - loss: 0.3087 - acc: 0.8943 - val_loss: 0.3387 - val_acc: 0.8698\n",
      "Epoch 11/40\n",
      "20000/20000 [==============================] - 1s 37us/step - loss: 0.2861 - acc: 0.9008 - val_loss: 0.3251 - val_acc: 0.8730\n",
      "Epoch 12/40\n",
      "20000/20000 [==============================] - 1s 35us/step - loss: 0.2674 - acc: 0.9058 - val_loss: 0.3140 - val_acc: 0.8746\n",
      "Epoch 13/40\n",
      "20000/20000 [==============================] - 1s 32us/step - loss: 0.2509 - acc: 0.9103 - val_loss: 0.3057 - val_acc: 0.8776\n",
      "Epoch 14/40\n",
      "20000/20000 [==============================] - 1s 37us/step - loss: 0.2369 - acc: 0.9164 - val_loss: 0.3001 - val_acc: 0.8806\n",
      "Epoch 15/40\n",
      "20000/20000 [==============================] - 1s 37us/step - loss: 0.2248 - acc: 0.9202 - val_loss: 0.2943 - val_acc: 0.8818\n",
      "Epoch 16/40\n",
      "20000/20000 [==============================] - 1s 36us/step - loss: 0.2127 - acc: 0.9245 - val_loss: 0.2908 - val_acc: 0.8848\n",
      "Epoch 17/40\n",
      "20000/20000 [==============================] - 1s 36us/step - loss: 0.2031 - acc: 0.9280 - val_loss: 0.2873 - val_acc: 0.8866\n",
      "Epoch 18/40\n",
      "20000/20000 [==============================] - 1s 37us/step - loss: 0.1939 - acc: 0.9321 - val_loss: 0.2855 - val_acc: 0.8870\n",
      "Epoch 19/40\n",
      "20000/20000 [==============================] - 1s 36us/step - loss: 0.1845 - acc: 0.9356 - val_loss: 0.2840 - val_acc: 0.8880\n",
      "Epoch 20/40\n",
      "20000/20000 [==============================] - 1s 36us/step - loss: 0.1767 - acc: 0.9389 - val_loss: 0.2824 - val_acc: 0.8882\n",
      "Epoch 21/40\n",
      "20000/20000 [==============================] - 1s 37us/step - loss: 0.1688 - acc: 0.9422 - val_loss: 0.2834 - val_acc: 0.8868\n",
      "Epoch 22/40\n",
      "20000/20000 [==============================] - 1s 37us/step - loss: 0.1623 - acc: 0.9443 - val_loss: 0.2829 - val_acc: 0.8884\n",
      "Epoch 23/40\n",
      "20000/20000 [==============================] - 1s 36us/step - loss: 0.1555 - acc: 0.9470 - val_loss: 0.2839 - val_acc: 0.8874\n",
      "Epoch 24/40\n",
      "20000/20000 [==============================] - 1s 37us/step - loss: 0.1491 - acc: 0.9492 - val_loss: 0.2841 - val_acc: 0.8896\n",
      "Epoch 25/40\n",
      "20000/20000 [==============================] - 1s 34us/step - loss: 0.1432 - acc: 0.9516 - val_loss: 0.2853 - val_acc: 0.8908\n",
      "Epoch 26/40\n",
      "20000/20000 [==============================] - 1s 36us/step - loss: 0.1376 - acc: 0.9539 - val_loss: 0.2872 - val_acc: 0.8894\n",
      "Epoch 27/40\n",
      "20000/20000 [==============================] - 1s 37us/step - loss: 0.1328 - acc: 0.9565 - val_loss: 0.2909 - val_acc: 0.8880\n",
      "Epoch 28/40\n",
      "20000/20000 [==============================] - 1s 37us/step - loss: 0.1274 - acc: 0.9582 - val_loss: 0.2925 - val_acc: 0.8880\n",
      "Epoch 29/40\n",
      "20000/20000 [==============================] - 1s 37us/step - loss: 0.1228 - acc: 0.9597 - val_loss: 0.2956 - val_acc: 0.8878\n",
      "Epoch 30/40\n",
      "20000/20000 [==============================] - 1s 36us/step - loss: 0.1178 - acc: 0.9630 - val_loss: 0.2972 - val_acc: 0.8862\n",
      "Epoch 31/40\n",
      "20000/20000 [==============================] - 1s 37us/step - loss: 0.1135 - acc: 0.9648 - val_loss: 0.3007 - val_acc: 0.8864\n",
      "Epoch 32/40\n",
      "20000/20000 [==============================] - 1s 37us/step - loss: 0.1094 - acc: 0.9661 - val_loss: 0.3050 - val_acc: 0.8852\n",
      "Epoch 33/40\n",
      "20000/20000 [==============================] - 1s 37us/step - loss: 0.1053 - acc: 0.9683 - val_loss: 0.3082 - val_acc: 0.8840\n",
      "Epoch 34/40\n",
      "20000/20000 [==============================] - 1s 37us/step - loss: 0.1012 - acc: 0.9700 - val_loss: 0.3121 - val_acc: 0.8856\n",
      "Epoch 35/40\n",
      "20000/20000 [==============================] - 1s 38us/step - loss: 0.0973 - acc: 0.9710 - val_loss: 0.3153 - val_acc: 0.8844\n",
      "Epoch 36/40\n",
      "20000/20000 [==============================] - 1s 37us/step - loss: 0.0939 - acc: 0.9729 - val_loss: 0.3200 - val_acc: 0.8850\n",
      "Epoch 37/40\n",
      "20000/20000 [==============================] - 1s 34us/step - loss: 0.0905 - acc: 0.9735 - val_loss: 0.3261 - val_acc: 0.8820\n",
      "Epoch 38/40\n",
      "20000/20000 [==============================] - 1s 37us/step - loss: 0.0877 - acc: 0.9752 - val_loss: 0.3303 - val_acc: 0.8850\n",
      "Epoch 39/40\n",
      "20000/20000 [==============================] - 1s 38us/step - loss: 0.0842 - acc: 0.9759 - val_loss: 0.3362 - val_acc: 0.8854\n",
      "Epoch 40/40\n",
      "20000/20000 [==============================] - 1s 37us/step - loss: 0.0811 - acc: 0.9778 - val_loss: 0.3412 - val_acc: 0.8834\n"
     ]
    }
   ],
   "source": [
    "# 定义模型\n",
    "model = keras.Sequential()\n",
    "model.add(keras.layers.Embedding(vocab_size, 16))\n",
    "model.add(keras.layers.GlobalAveragePooling1D())\n",
    "model.add(keras.layers.Dense(16, activation='relu'))\n",
    "model.add(keras.layers.Dense(1, activation='sigmoid'))\n",
    "model.summary()\n",
    "\n",
    "# 编译模型\n",
    "model.compile(optimizer='adam', loss='binary_crossentropy', metrics=['accuracy'])\n",
    "\n",
    "# 训练集和验证集分割\n",
    "train_size = 20000\n",
    "X_val = X_train[train_size:]\n",
    "X_train = X_train[:train_size]\n",
    "Y_val = Y_train[train_size:]\n",
    "Y_train = Y_train[:train_size]\n",
    "\n",
    "# 训练模型\n",
    "history = model.fit(X_train, Y_train, epochs=40, batch_size=512, validation_data=(X_val, Y_val))"
   ]
  },
  {
   "cell_type": "markdown",
   "metadata": {},
   "source": [
    "在测试集上评估模型，过拟合在验证集和测试集上都比较明显，最后使用训练过程的历史数据绘制一些图形"
   ]
  },
  {
   "cell_type": "code",
   "execution_count": 6,
   "metadata": {},
   "outputs": [
    {
     "name": "stdout",
     "output_type": "stream",
     "text": [
      "25000/25000 [==============================] - 3s 140us/step\n",
      "[0.37149411332130433, 0.86844]\n",
      "dict_keys(['val_loss', 'val_acc', 'loss', 'acc'])\n"
     ]
    },
    {
     "data": {
      "image/png": "[encoded data removed]",
      "text/plain": [
       "<Figure size 432x288 with 1 Axes>"
      ]
     },
     "metadata": {},
     "output_type": "display_data"
    },
    {
     "data": {
      "image/png": "[encoded data removed]",
      "text/plain": [
       "<Figure size 432x288 with 1 Axes>"
      ]
     },
     "metadata": {},
     "output_type": "display_data"
    }
   ],
   "source": [
    "results = model.evaluate(X_test, Y_test)\n",
    "print(results)\n",
    "\n",
    "history = history.history\n",
    "print(history.keys())\n",
    "\n",
    "acc = history['acc']\n",
    "val_acc = history['val_acc']\n",
    "loss = history['loss']\n",
    "val_loss = history['val_loss']\n",
    "xs = [i + 1 for i in range(len(loss))]\n",
    "\n",
    "# 绘制损失函数曲线\n",
    "plt.figure()\n",
    "plt.plot(xs, loss, 'bo', label='Train Loss')\n",
    "plt.plot(xs, val_loss, 'r', label='Val Loss')\n",
    "plt.title('Loss during Training')\n",
    "plt.xlabel('Epochs')\n",
    "plt.ylabel('Loss')\n",
    "plt.legend()\n",
    "plt.show()\n",
    "\n",
    "# 绘制正确率曲线\n",
    "plt.figure()\n",
    "plt.plot(xs, acc, 'bo', label='Train Accuracy')\n",
    "plt.plot(xs, val_acc, 'r', label='Val Accuracy')\n",
    "plt.title('Accuracy during Training')\n",
    "plt.xlabel('Epochs')\n",
    "plt.ylabel('Accuracy')\n",
    "plt.legend()\n",
    "plt.show()"
   ]
  },
  {
   "cell_type": "code",
   "execution_count": null,
   "metadata": {},
   "outputs": [],
   "source": []
  }
 ],
 "metadata": {
  "kernelspec": {
   "display_name": "Python 3",
   "language": "python",
   "name": "python3"
  },
  "language_info": {
   "codemirror_mode": {
    "name": "ipython",
    "version": 3
   },
   "file_extension": ".py",
   "mimetype": "text/x-python",
   "name": "python",
   "nbconvert_exporter": "python",
   "pygments_lexer": "ipython3",
   "version": "3.6.3"
  }
 },
 "nbformat": 4,
 "nbformat_minor": 2
}
